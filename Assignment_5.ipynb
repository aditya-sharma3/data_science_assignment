{
 "cells": [
  {
   "cell_type": "markdown",
   "id": "f9e42c92",
   "metadata": {},
   "source": [
    "### Q1"
   ]
  },
  {
   "cell_type": "code",
   "execution_count": 4,
   "id": "30562eec",
   "metadata": {},
   "outputs": [],
   "source": [
    "class vehicle:\n",
    "    def __init__(self):\n",
    "        self.name_of_vehicle = 'swift'\n",
    "        self.max_speed = 85\n",
    "        self.average_of_vehicle = 45\n",
    "        "
   ]
  },
  {
   "cell_type": "markdown",
   "id": "c989bfc3",
   "metadata": {},
   "source": [
    "### Q2"
   ]
  },
  {
   "cell_type": "code",
   "execution_count": 20,
   "id": "bc06b8ef",
   "metadata": {},
   "outputs": [],
   "source": [
    "class car(vehicle):\n",
    "    def seating_capacity(self,capacity):\n",
    "        return self.name_of_vehicle, capacity"
   ]
  },
  {
   "cell_type": "code",
   "execution_count": 21,
   "id": "b9ebd63d",
   "metadata": {},
   "outputs": [],
   "source": [
    "car1 = car()"
   ]
  },
  {
   "cell_type": "code",
   "execution_count": 22,
   "id": "baf747cf",
   "metadata": {},
   "outputs": [
    {
     "data": {
      "text/plain": [
       "('swift', 4)"
      ]
     },
     "execution_count": 22,
     "metadata": {},
     "output_type": "execute_result"
    }
   ],
   "source": [
    "car1.seating_capacity(4)"
   ]
  },
  {
   "cell_type": "markdown",
   "id": "948ade56",
   "metadata": {},
   "source": [
    "### Q3"
   ]
  },
  {
   "cell_type": "markdown",
   "id": "835e1233",
   "metadata": {},
   "source": [
    "If a class is having more than one base class id called ___multiple inheritance.___ The derive class have all the features of the base classes."
   ]
  },
  {
   "cell_type": "code",
   "execution_count": 23,
   "id": "56434741",
   "metadata": {},
   "outputs": [],
   "source": [
    "# example of multiple in heritance\n",
    "class class1:\n",
    "    def f(self):\n",
    "        return 'This is first class'\n",
    "\n",
    "class class2:\n",
    "    def f2(self):\n",
    "        return 'This is class second'\n",
    "class class3(class1, class2):\n",
    "    pass"
   ]
  },
  {
   "cell_type": "code",
   "execution_count": 24,
   "id": "d775ffa6",
   "metadata": {},
   "outputs": [],
   "source": [
    "obj = class3()"
   ]
  },
  {
   "cell_type": "code",
   "execution_count": 26,
   "id": "ef021d78",
   "metadata": {},
   "outputs": [
    {
     "data": {
      "text/plain": [
       "'This is class second'"
      ]
     },
     "execution_count": 26,
     "metadata": {},
     "output_type": "execute_result"
    }
   ],
   "source": [
    "obj.f2()"
   ]
  },
  {
   "cell_type": "markdown",
   "id": "7d027f38",
   "metadata": {},
   "source": [
    "### Q4"
   ]
  },
  {
   "cell_type": "markdown",
   "id": "df636a43",
   "metadata": {},
   "source": [
    "In python ___getter___ is used to access class private variables. On the other hand ___setter___ is used to set the property's value."
   ]
  },
  {
   "cell_type": "code",
   "execution_count": 40,
   "id": "0d1cc4aa",
   "metadata": {},
   "outputs": [],
   "source": [
    "# example for getter and setter\n",
    "class school:\n",
    "    def __init___(self, name, age, sid):\n",
    "        self._name = name\n",
    "        self._age = age\n",
    "        self._id = sid\n",
    "    # using the getter method\n",
    "    def get_name(self):\n",
    "        return self._name\n",
    "\n",
    "    # using the setter method\n",
    "    def set_name(self, name):\n",
    "        self._name = name"
   ]
  },
  {
   "cell_type": "code",
   "execution_count": 41,
   "id": "8182d2e3",
   "metadata": {},
   "outputs": [],
   "source": [
    "stu = school()"
   ]
  },
  {
   "cell_type": "code",
   "execution_count": 43,
   "id": "2bee7574",
   "metadata": {},
   "outputs": [],
   "source": [
    "stu.set_name('aman')"
   ]
  },
  {
   "cell_type": "code",
   "execution_count": 44,
   "id": "21756c23",
   "metadata": {},
   "outputs": [
    {
     "data": {
      "text/plain": [
       "'aman'"
      ]
     },
     "execution_count": 44,
     "metadata": {},
     "output_type": "execute_result"
    }
   ],
   "source": [
    "stu.get_name()"
   ]
  },
  {
   "cell_type": "code",
   "execution_count": 45,
   "id": "e1220610",
   "metadata": {},
   "outputs": [],
   "source": [
    "stu.set_name('rohit')"
   ]
  },
  {
   "cell_type": "code",
   "execution_count": 46,
   "id": "7179f913",
   "metadata": {},
   "outputs": [
    {
     "data": {
      "text/plain": [
       "'rohit'"
      ]
     },
     "execution_count": 46,
     "metadata": {},
     "output_type": "execute_result"
    }
   ],
   "source": [
    "stu.get_name()"
   ]
  },
  {
   "cell_type": "markdown",
   "id": "85966cb1",
   "metadata": {},
   "source": [
    "### Q5"
   ]
  },
  {
   "cell_type": "markdown",
   "id": "2cf14504",
   "metadata": {},
   "source": [
    "Method overriding is, when we have two methods ith the same name and they each perform different tasks. It is closely related to inheritence."
   ]
  },
  {
   "cell_type": "code",
   "execution_count": 1,
   "id": "9cf801ca",
   "metadata": {},
   "outputs": [],
   "source": [
    "# this is the parent class\n",
    "class parent:\n",
    "    def __init__(self):\n",
    "        self.value = 5\n",
    "    \n",
    "    def get_value(self):\n",
    "        return self.value\n",
    "\n",
    "# this is the child class\n",
    "class child(parent):\n",
    "    \n",
    "    # function with the same name as in parent class\n",
    "    # ths function will return 5 + 34\n",
    "    def get_value(self):\n",
    "        return self.value + 34"
   ]
  },
  {
   "cell_type": "code",
   "execution_count": 2,
   "id": "70a625b9",
   "metadata": {},
   "outputs": [],
   "source": [
    "obj2 = child()"
   ]
  },
  {
   "cell_type": "code",
   "execution_count": 4,
   "id": "46d320ef",
   "metadata": {},
   "outputs": [
    {
     "data": {
      "text/plain": [
       "39"
      ]
     },
     "execution_count": 4,
     "metadata": {},
     "output_type": "execute_result"
    }
   ],
   "source": [
    "obj2.get_value()"
   ]
  },
  {
   "cell_type": "code",
   "execution_count": null,
   "id": "12996594",
   "metadata": {},
   "outputs": [],
   "source": []
  }
 ],
 "metadata": {
  "kernelspec": {
   "display_name": "Python 3 (ipykernel)",
   "language": "python",
   "name": "python3"
  },
  "language_info": {
   "codemirror_mode": {
    "name": "ipython",
    "version": 3
   },
   "file_extension": ".py",
   "mimetype": "text/x-python",
   "name": "python",
   "nbconvert_exporter": "python",
   "pygments_lexer": "ipython3",
   "version": "3.10.9"
  }
 },
 "nbformat": 4,
 "nbformat_minor": 5
}

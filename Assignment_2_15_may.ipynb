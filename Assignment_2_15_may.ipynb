{
 "cells": [
  {
   "cell_type": "markdown",
   "id": "0d73399e",
   "metadata": {},
   "source": [
    "### Q1"
   ]
  },
  {
   "cell_type": "markdown",
   "id": "59f1722b",
   "metadata": {},
   "source": [
    "A comment in python is sstart with the hash or pound ***#*** sign. There are two ways one can comment in python, the first one is single line comment which starts with ***#*** and multiline comment which can be done by using three quotation marks as in \n",
    "***'''this is \n",
    "a multiline\n",
    "comment'''***, so these are the ways for commenting in python."
   ]
  },
  {
   "cell_type": "markdown",
   "id": "7fc80ef4",
   "metadata": {},
   "source": [
    "### Q2"
   ]
  },
  {
   "cell_type": "markdown",
   "id": "7c49528d",
   "metadata": {},
   "source": [
    "Variables, in simpler terms is a container, which is used to store some values. Variables, basically are symbolic names that are used to point an object."
   ]
  },
  {
   "cell_type": "code",
   "execution_count": 1,
   "id": "f5a1e5e6",
   "metadata": {},
   "outputs": [],
   "source": [
    "# vriables are declared and values are assigned as follows\n",
    "num = 10\n",
    "name = 'Delhi'"
   ]
  },
  {
   "cell_type": "markdown",
   "id": "11791904",
   "metadata": {},
   "source": [
    "### Q3"
   ]
  },
  {
   "cell_type": "code",
   "execution_count": 3,
   "id": "e26d903e",
   "metadata": {},
   "outputs": [
    {
     "name": "stdout",
     "output_type": "stream",
     "text": [
      "45.0\n",
      "34\n"
     ]
    }
   ],
   "source": [
    "# converting one data type into another\n",
    "number_1 = 45\n",
    "number_1 = float(number_1)\n",
    "print(number_1)\n",
    "# above code snippet convert integer into floating data type\n",
    "number_2 = 34.89\n",
    "number_2 = int(number_2)\n",
    "print(number_2)\n",
    "# the above code convert float into int datatype"
   ]
  },
  {
   "cell_type": "markdown",
   "id": "4130a82d",
   "metadata": {},
   "source": [
    "### Q4"
   ]
  },
  {
   "cell_type": "markdown",
   "id": "085d149d",
   "metadata": {},
   "source": [
    "To write a program in python from command line, first we need to install python interpreter and then using cmd, by typing ***python*** on the cmd. After that ***>>>*** will appear which shows that cmd is ready for python script execution.\n",
    "Talking about how to execute a python program on cmd we just need to type ***python filename*** the interpreter will start execution."
   ]
  },
  {
   "cell_type": "markdown",
   "id": "94b68747",
   "metadata": {},
   "source": [
    "### Q5"
   ]
  },
  {
   "cell_type": "code",
   "execution_count": 5,
   "id": "601cf3d7",
   "metadata": {},
   "outputs": [
    {
     "name": "stdout",
     "output_type": "stream",
     "text": [
      "[2, 3]\n"
     ]
    }
   ],
   "source": [
    "my_list = [1, 2, 3, 4, 5]\n",
    "print(my_list[1:3])"
   ]
  },
  {
   "cell_type": "markdown",
   "id": "76fa2776",
   "metadata": {},
   "source": [
    "### Q6"
   ]
  },
  {
   "cell_type": "markdown",
   "id": "982658ef",
   "metadata": {},
   "source": [
    "In mathematics complex numbers are expressed in the form of ***a+ib*** where, ***a*** and ***b*** are real number and ***i*** is an imaginary part generally called as ***iota***. "
   ]
  },
  {
   "cell_type": "code",
   "execution_count": 3,
   "id": "34d1eb60",
   "metadata": {},
   "outputs": [
    {
     "name": "stdout",
     "output_type": "stream",
     "text": [
      "<class 'complex'>\n",
      "(2+6j)\n",
      "(2+6j)\n"
     ]
    }
   ],
   "source": [
    "# we can represent complex number in python as follows\n",
    "num = 2 + 6j\n",
    "print(type(num))\n",
    "print(num)\n",
    "# OR\n",
    "num2 = complex(2,6)\n",
    "print(num2)\n"
   ]
  },
  {
   "cell_type": "markdown",
   "id": "3c68fe3e",
   "metadata": {},
   "source": [
    "### Q7"
   ]
  },
  {
   "cell_type": "code",
   "execution_count": 4,
   "id": "0b258b34",
   "metadata": {},
   "outputs": [],
   "source": [
    "# valid variable names\n",
    "age = 25\n",
    "Age = 25\n",
    "_age = 25\n",
    "age_ = 25\n",
    "AGE = 25"
   ]
  },
  {
   "cell_type": "markdown",
   "id": "174914c0",
   "metadata": {},
   "source": [
    "### Q8"
   ]
  },
  {
   "cell_type": "code",
   "execution_count": 5,
   "id": "08fc1fab",
   "metadata": {},
   "outputs": [
    {
     "name": "stdout",
     "output_type": "stream",
     "text": [
      "<class 'float'>\n"
     ]
    }
   ],
   "source": [
    "# this variable belongs to float datatype\n",
    "price = 9.99\n",
    "print(type(price))"
   ]
  },
  {
   "cell_type": "markdown",
   "id": "ce18a5fc",
   "metadata": {},
   "source": [
    "### Q9"
   ]
  },
  {
   "cell_type": "code",
   "execution_count": 7,
   "id": "c16cdd3f",
   "metadata": {},
   "outputs": [
    {
     "name": "stdout",
     "output_type": "stream",
     "text": [
      "aditya sharma\n"
     ]
    },
    {
     "data": {
      "text/plain": [
       "'aditya sharma'"
      ]
     },
     "execution_count": 7,
     "metadata": {},
     "output_type": "execute_result"
    }
   ],
   "source": [
    "name = 'aditya sharma'\n",
    "# to print this variable\n",
    "print(name)\n",
    "# OR\n",
    "name[0:]"
   ]
  },
  {
   "cell_type": "markdown",
   "id": "faaf7f96",
   "metadata": {},
   "source": [
    "### Q10"
   ]
  },
  {
   "cell_type": "code",
   "execution_count": 8,
   "id": "3f2f4e9f",
   "metadata": {},
   "outputs": [
    {
     "data": {
      "text/plain": [
       "'World!'"
      ]
     },
     "execution_count": 8,
     "metadata": {},
     "output_type": "execute_result"
    }
   ],
   "source": [
    "string = 'Hello World!'\n",
    "string[6:]"
   ]
  },
  {
   "cell_type": "markdown",
   "id": "145f8196",
   "metadata": {},
   "source": [
    "### Q11"
   ]
  },
  {
   "cell_type": "code",
   "execution_count": null,
   "id": "0d4c7c52",
   "metadata": {},
   "outputs": [],
   "source": [
    "is_student = False\n"
   ]
  }
 ],
 "metadata": {
  "kernelspec": {
   "display_name": "Python 3 (ipykernel)",
   "language": "python",
   "name": "python3"
  },
  "language_info": {
   "codemirror_mode": {
    "name": "ipython",
    "version": 3
   },
   "file_extension": ".py",
   "mimetype": "text/x-python",
   "name": "python",
   "nbconvert_exporter": "python",
   "pygments_lexer": "ipython3",
   "version": "3.10.9"
  }
 },
 "nbformat": 4,
 "nbformat_minor": 5
}

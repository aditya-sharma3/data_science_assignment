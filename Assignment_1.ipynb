{
 "cells": [
  {
   "cell_type": "markdown",
   "id": "d7b44c5e-7f3e-4ad5-a9f6-296ce5d6dbe7",
   "metadata": {},
   "source": [
    "## Q1"
   ]
  },
  {
   "cell_type": "code",
   "execution_count": 1,
   "id": "2275642f-ac9d-4804-a051-e1067ae6b465",
   "metadata": {},
   "outputs": [],
   "source": [
    "all_list = ['Delhi', [1, 2, 2, 4], 23.45, (1, 5, 7)]"
   ]
  },
  {
   "cell_type": "code",
   "execution_count": 4,
   "id": "0aa762c6-9351-415c-9534-e9224eb6aa39",
   "metadata": {},
   "outputs": [
    {
     "name": "stdout",
     "output_type": "stream",
     "text": [
      "['Delhi', [1, 2, 2, 4], 23.45, (1, 5, 7)]\n"
     ]
    }
   ],
   "source": [
    "# print(type(all_list))\n",
    "print(all_list)"
   ]
  },
  {
   "cell_type": "markdown",
   "id": "22de103b-0c71-4f50-a560-532154c14a20",
   "metadata": {},
   "source": [
    "### Q2"
   ]
  },
  {
   "cell_type": "code",
   "execution_count": 6,
   "id": "1adc122d-d0c0-422a-bb15-384e585c1099",
   "metadata": {},
   "outputs": [
    {
     "name": "stdout",
     "output_type": "stream",
     "text": [
      "<class 'str'>\n",
      "<class 'str'>\n",
      "<class 'list'>\n",
      "<class 'float'>\n"
     ]
    }
   ],
   "source": [
    "var1 = ''\n",
    "var2 = '[DS, ML, Python]'\n",
    "var3 = ['DS', 'ML', 'Python']\n",
    "var4 = 1.\n",
    "print(type(var1))\n",
    "print(type(var2))\n",
    "print(type(var3))\n",
    "print(type(var4))"
   ]
  },
  {
   "cell_type": "markdown",
   "id": "da7deab6-e591-4290-bd96-fc356a12033b",
   "metadata": {},
   "source": [
    "### Q3"
   ]
  },
  {
   "cell_type": "markdown",
   "id": "95e4f0b0-5085-40a2-a3b3-0285f786a354",
   "metadata": {},
   "source": [
    "/ is a division operator used to divide two numbers."
   ]
  },
  {
   "cell_type": "code",
   "execution_count": 9,
   "id": "f2968186-d2f3-4fe5-b48f-bc87baea65c3",
   "metadata": {},
   "outputs": [
    {
     "name": "stdout",
     "output_type": "stream",
     "text": [
      "0.4\n"
     ]
    }
   ],
   "source": [
    "print(2/5)"
   ]
  },
  {
   "cell_type": "markdown",
   "id": "c1238e26-32b9-4b0f-b547-8c99b793ca8f",
   "metadata": {},
   "source": [
    "% is a modulo operator which gives us remainder, for division of two numbers."
   ]
  },
  {
   "cell_type": "code",
   "execution_count": 10,
   "id": "7b480210-ac99-4997-871e-bdae13aa2227",
   "metadata": {},
   "outputs": [
    {
     "name": "stdout",
     "output_type": "stream",
     "text": [
      "2\n"
     ]
    }
   ],
   "source": [
    "print(5%3)"
   ]
  },
  {
   "cell_type": "markdown",
   "id": "3b598199-9ee2-446a-b0f0-2325bcfe22d4",
   "metadata": {},
   "source": [
    "// is a floor division operator, it basically depends upon the arguments passed, if the argument is of float type it will result in floor or if the argument is of integer type it will result in integer. "
   ]
  },
  {
   "cell_type": "code",
   "execution_count": 11,
   "id": "0092ee36-bff0-4f2c-9ba2-bb6d63977568",
   "metadata": {},
   "outputs": [
    {
     "name": "stdout",
     "output_type": "stream",
     "text": [
      "2\n"
     ]
    }
   ],
   "source": [
    "print(5//2)"
   ]
  },
  {
   "cell_type": "code",
   "execution_count": 14,
   "id": "7572cf47-86b0-4be6-92d5-8ab63ea18a44",
   "metadata": {},
   "outputs": [
    {
     "name": "stdout",
     "output_type": "stream",
     "text": [
      "2.0\n"
     ]
    }
   ],
   "source": [
    "print(5.6//2.5)"
   ]
  },
  {
   "cell_type": "markdown",
   "id": "a0dadda9-ec70-49d3-a164-37cc9ce60895",
   "metadata": {},
   "source": [
    "** is exponentiation operator it basically returns  x^y as x ** y"
   ]
  },
  {
   "cell_type": "code",
   "execution_count": 15,
   "id": "7c199007-6b8a-4f98-bbb2-a1181d4f6b60",
   "metadata": {},
   "outputs": [
    {
     "name": "stdout",
     "output_type": "stream",
     "text": [
      "8\n"
     ]
    }
   ],
   "source": [
    "print(2**3)"
   ]
  },
  {
   "cell_type": "markdown",
   "id": "1380e82f-4e57-4035-a1e3-dec3e5bb87e9",
   "metadata": {},
   "source": [
    "### Q4"
   ]
  },
  {
   "cell_type": "code",
   "execution_count": 16,
   "id": "ea42d2b7-81b9-45b4-ad27-7c095725e8e5",
   "metadata": {},
   "outputs": [],
   "source": [
    "list_2 = ['Kolkata', 1, 2, 2, 4, {'India': 'New Delhi', 'USA':'Washington DC', 'South Korea':'Seoul'}, ('TATA', 'Honda' 'Suzuki'), 34.55, 2+8j, 8j]"
   ]
  },
  {
   "cell_type": "code",
   "execution_count": 19,
   "id": "003b0761-ca49-45e9-a9fc-da9dbfc88099",
   "metadata": {},
   "outputs": [
    {
     "name": "stdout",
     "output_type": "stream",
     "text": [
      "Kolkata <class 'str'>\n",
      "1 <class 'int'>\n",
      "2 <class 'int'>\n",
      "2 <class 'int'>\n",
      "4 <class 'int'>\n",
      "{'India': 'New Delhi', 'USA': 'Washington DC', 'South Korea': 'Seoul'} <class 'dict'>\n",
      "('TATA', 'HondaSuzuki') <class 'tuple'>\n",
      "34.55 <class 'float'>\n",
      "(2+8j) <class 'complex'>\n",
      "8j <class 'complex'>\n"
     ]
    }
   ],
   "source": [
    "for i in list_2:\n",
    "    print(i, type(i))"
   ]
  },
  {
   "cell_type": "markdown",
   "id": "0ecbf7c6-5dd9-4309-aab1-b6f37e489218",
   "metadata": {},
   "source": [
    "### Q5"
   ]
  },
  {
   "cell_type": "code",
   "execution_count": 11,
   "id": "c0550b1a-bba3-4075-9ee9-f9fa3d29f75a",
   "metadata": {},
   "outputs": [
    {
     "name": "stdout",
     "output_type": "stream",
     "text": [
      "3\n"
     ]
    }
   ],
   "source": [
    "number = 24\n",
    "count = 0\n",
    "while number>0 and number%2 == 0:\n",
    "    count += 1\n",
    "    number = number/2\n",
    "print(count)"
   ]
  },
  {
   "cell_type": "markdown",
   "id": "d7418474-7042-42c1-ab9e-b0314c38459f",
   "metadata": {},
   "source": [
    "### Q6"
   ]
  },
  {
   "cell_type": "code",
   "execution_count": 3,
   "id": "663e99ee-c884-4057-b851-db5f2bf65c5c",
   "metadata": {},
   "outputs": [
    {
     "name": "stdout",
     "output_type": "stream",
     "text": [
      "Divisible by 3\n",
      "Not devisible by 3\n",
      "Not devisible by 3\n",
      "Not devisible by 3\n",
      "Not devisible by 3\n",
      "Not devisible by 3\n",
      "Not devisible by 3\n",
      "Not devisible by 3\n",
      "Divisible by 3\n",
      "Not devisible by 3\n",
      "Divisible by 3\n",
      "Not devisible by 3\n",
      "Divisible by 3\n",
      "Not devisible by 3\n",
      "Divisible by 3\n",
      "Divisible by 3\n",
      "Not devisible by 3\n",
      "Divisible by 3\n",
      "Divisible by 3\n",
      "Not devisible by 3\n",
      "Not devisible by 3\n",
      "Not devisible by 3\n",
      "Not devisible by 3\n",
      "Divisible by 3\n",
      "Divisible by 3\n"
     ]
    }
   ],
   "source": [
    "list = [12, 2, 32, 31, 32, 35, 56, 67, 45, 55, 78, 65, 21, 32, 42, 51, 50, 90, 39, 40, 49, 55, 71, 72, 75]\n",
    "\n",
    "for i in list:\n",
    "    if i%3 == 0:\n",
    "        print('Divisible by 3')\n",
    "    else:\n",
    "        print('Not devisible by 3')"
   ]
  },
  {
   "cell_type": "markdown",
   "id": "e0ceba41-3fba-4412-ab03-a92fbd9dd903",
   "metadata": {},
   "source": [
    "### Q7"
   ]
  },
  {
   "cell_type": "markdown",
   "id": "202684a8-a256-4b9e-91de-dcb72cf8e215",
   "metadata": {},
   "source": [
    "A datatype which allows the programmer to change its values is knows as ***mutable*** datatype. On the other hand if a datatype does not allows to change its values is knows as ***immutable*** datatype. Below are the examples."
   ]
  },
  {
   "cell_type": "code",
   "execution_count": 9,
   "id": "4ade6963-295c-4005-a5fd-ffc19f574908",
   "metadata": {},
   "outputs": [
    {
     "name": "stdout",
     "output_type": "stream",
     "text": [
      "2\n",
      "70\n",
      "Moving\n",
      "M\n"
     ]
    },
    {
     "ename": "TypeError",
     "evalue": "'str' object does not support item assignment",
     "output_type": "error",
     "traceback": [
      "\u001b[1;31m---------------------------------------------------------------------------\u001b[0m",
      "\u001b[1;31mTypeError\u001b[0m                                 Traceback (most recent call last)",
      "Cell \u001b[1;32mIn[9], line 11\u001b[0m\n\u001b[0;32m      9\u001b[0m \u001b[38;5;28mprint\u001b[39m(string_2)\n\u001b[0;32m     10\u001b[0m \u001b[38;5;28mprint\u001b[39m(string_2[\u001b[38;5;241m0\u001b[39m])\n\u001b[1;32m---> 11\u001b[0m string_2[\u001b[38;5;241m0\u001b[39m] \u001b[38;5;241m=\u001b[39m \u001b[38;5;124m'\u001b[39m\u001b[38;5;124mL\u001b[39m\u001b[38;5;124m'\u001b[39m\n",
      "\u001b[1;31mTypeError\u001b[0m: 'str' object does not support item assignment"
     ]
    }
   ],
   "source": [
    "number_1 = 2\n",
    "print(number_1)\n",
    "# here we have assignes variable number_1 as one but we can change its values at any time later\n",
    "number_1 = 70\n",
    "print(number_1)\n",
    "# which means this is mutable datatype\n",
    "\n",
    "string_2 = 'Moving'\n",
    "print(string_2)\n",
    "print(string_2[0])\n",
    "string_2[0] = 'L' # this will throws an error as we cannot change the string by using index once declared"
   ]
  },
  {
   "cell_type": "code",
   "execution_count": null,
   "id": "8a79254d-92ae-4183-a665-9c448b72c5e1",
   "metadata": {},
   "outputs": [],
   "source": []
  }
 ],
 "metadata": {
  "kernelspec": {
   "display_name": "Python 3 (ipykernel)",
   "language": "python",
   "name": "python3"
  },
  "language_info": {
   "codemirror_mode": {
    "name": "ipython",
    "version": 3
   },
   "file_extension": ".py",
   "mimetype": "text/x-python",
   "name": "python",
   "nbconvert_exporter": "python",
   "pygments_lexer": "ipython3",
   "version": "3.10.9"
  }
 },
 "nbformat": 4,
 "nbformat_minor": 5
}

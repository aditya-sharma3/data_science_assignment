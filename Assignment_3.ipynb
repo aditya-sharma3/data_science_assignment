{
 "cells": [
  {
   "cell_type": "markdown",
   "metadata": {
    "id": "rGBbpHf2E4Pk"
   },
   "source": [
    "### Q1"
   ]
  },
  {
   "cell_type": "markdown",
   "metadata": {
    "id": "sofZFdAhEwob"
   },
   "source": [
    "***def*** keyword is used to create a function in python."
   ]
  },
  {
   "cell_type": "code",
   "execution_count": null,
   "metadata": {
    "colab": {
     "base_uri": "https://localhost:8080/"
    },
    "id": "GQBsnOdAEwF-",
    "outputId": "de7621f4-689c-4723-c981-a25818603c48"
   },
   "outputs": [
    {
     "name": "stdout",
     "output_type": "stream",
     "text": [
      "1\n",
      "3\n",
      "5\n",
      "7\n",
      "9\n",
      "11\n",
      "13\n",
      "15\n",
      "17\n",
      "19\n",
      "21\n",
      "23\n",
      "25\n"
     ]
    }
   ],
   "source": [
    "def odd_number(num1, num2):\n",
    "    for i in range(num1, num2+1):\n",
    "        if i%2 != 0:\n",
    "            print(i)\n",
    "odd_number(1, 25)"
   ]
  },
  {
   "cell_type": "markdown",
   "metadata": {
    "id": "Vy3C3CZeHD4z"
   },
   "source": [
    "### Q2"
   ]
  },
  {
   "cell_type": "markdown",
   "metadata": {
    "id": "nCQ57TUVHIHq"
   },
   "source": [
    "__*args__ is used to pass variable length arguments to a python function, on the other hand __**kwargs__ is used to pass argument as a dictionary i.e. in key value pair."
   ]
  },
  {
   "cell_type": "code",
   "execution_count": null,
   "metadata": {
    "colab": {
     "base_uri": "https://localhost:8080/"
    },
    "id": "Gx3bvzaaFfFu",
    "outputId": "aece35fb-6315-4635-ee70-aba2aa99b7a0"
   },
   "outputs": [
    {
     "name": "stdout",
     "output_type": "stream",
     "text": [
      "hello\n",
      "how\n",
      "are\n",
      "you\n",
      "125469\n"
     ]
    }
   ],
   "source": [
    "# *args example\n",
    "def multiple_args(*args):\n",
    "  for i in args:\n",
    "    print(i)\n",
    "multiple_args('hello', 'how', 'are', 'you', 125469)"
   ]
  },
  {
   "cell_type": "code",
   "execution_count": null,
   "metadata": {
    "colab": {
     "base_uri": "https://localhost:8080/"
    },
    "id": "KucwF2FWJDR-",
    "outputId": "1b1ad4db-d8f4-43a1-c1c6-126ecb733cdf"
   },
   "outputs": [
    {
     "name": "stdout",
     "output_type": "stream",
     "text": [
      "New Delhi\n",
      "Washinton DC\n",
      "Beijing\n"
     ]
    }
   ],
   "source": [
    "# **kwargs example\n",
    "def multiple_kwargs(**kwargs):\n",
    "  for i in kwargs:\n",
    "    print(kwargs[i])\n",
    "multiple_kwargs(India = 'New Delhi', USA = 'Washinton DC', china = 'Beijing')"
   ]
  },
  {
   "cell_type": "markdown",
   "metadata": {
    "id": "rqXw-OSDLudP"
   },
   "source": [
    "### Q3"
   ]
  },
  {
   "cell_type": "markdown",
   "metadata": {
    "id": "bl1AP09lL3pQ"
   },
   "source": [
    "In python iterator is an object which is used to iterate over an iterable objects for instance, list, tuples, dictionaries etc. It is initialized by using the __iter()__ method and uses __next()__ method for iteration"
   ]
  },
  {
   "cell_type": "code",
   "execution_count": null,
   "metadata": {
    "colab": {
     "base_uri": "https://localhost:8080/"
    },
    "id": "Z-0o2xu4K9Zi",
    "outputId": "c45a57b6-6b8f-4782-8301-f0ff15920088"
   },
   "outputs": [
    {
     "name": "stdout",
     "output_type": "stream",
     "text": [
      "2\n",
      "4\n",
      "6\n",
      "8\n",
      "10\n"
     ]
    }
   ],
   "source": [
    "# example for iter() and next()\n",
    "\n",
    "list_1 = [2, 4, 6, 8, 10, 12, 14, 16, 18, 20]\n",
    "list1_iter = iter(list_1)\n",
    "print(next(list1_iter))\n",
    "print(next(list1_iter))\n",
    "print(next(list1_iter))\n",
    "print(next(list1_iter))\n",
    "print(next(list1_iter))"
   ]
  },
  {
   "cell_type": "markdown",
   "metadata": {
    "id": "VygMwYDgObGl"
   },
   "source": [
    "### Q4"
   ]
  },
  {
   "cell_type": "markdown",
   "metadata": {
    "id": "28KmQNK3OeLo"
   },
   "source": [
    "In python generator function is like a normal function but it is used to generate a value whenever needed, with the help of the __yield__ keyword."
   ]
  },
  {
   "cell_type": "code",
   "execution_count": 2,
   "metadata": {
    "colab": {
     "base_uri": "https://localhost:8080/"
    },
    "id": "Q9wb6e6wNFqG",
    "outputId": "5d9cc0d1-209d-44e9-b126-34159a059464"
   },
   "outputs": [
    {
     "name": "stdout",
     "output_type": "stream",
     "text": [
      "1\n",
      "2\n",
      "3\n",
      "4\n"
     ]
    }
   ],
   "source": [
    "def generator_function():\n",
    "    yield 1\n",
    "    yield 2\n",
    "    yield 3\n",
    "    yield 4\n",
    "#print(generator_function())\n",
    "for i in generator_function():\n",
    "    print(i)\n"
   ]
  },
  {
   "cell_type": "markdown",
   "metadata": {
    "id": "QIE0VB7vQjcm"
   },
   "source": [
    "### Q5"
   ]
  },
  {
   "cell_type": "code",
   "execution_count": 6,
   "metadata": {
    "id": "IKKcPJMsP53D"
   },
   "outputs": [
    {
     "name": "stdout",
     "output_type": "stream",
     "text": [
      "<generator object getPrimes at 0x000001CE6A81AB20>\n"
     ]
    }
   ],
   "source": [
    "def getPrimes(n):\n",
    "    if n <= 2:\n",
    "        raise StopIteration\n",
    "    yield 2\n",
    "    for i in range(3, n, 2):\n",
    "        for x in range(3, int(i**0.5)+2, 2):\n",
    "            if not i % x:\n",
    "                break\n",
    "        else:\n",
    "            yield i\n",
    "[x for x in getPrimes(1000)]\n",
    "# print(getPrimes(1000))"
   ]
  },
  {
   "cell_type": "markdown",
   "metadata": {
    "id": "TR6Pk3hMQ7RN"
   },
   "source": [
    "### Q6"
   ]
  },
  {
   "cell_type": "code",
   "execution_count": 6,
   "metadata": {
    "id": "tq5Le2wEQ8r5"
   },
   "outputs": [
    {
     "name": "stdout",
     "output_type": "stream",
     "text": [
      "0\n",
      "1\n",
      "1\n",
      "2\n",
      "3\n",
      "5\n",
      "8\n",
      "13\n",
      "21\n",
      "34\n"
     ]
    }
   ],
   "source": [
    "# fibonnaci series\n",
    "first = 0\n",
    "second = 1\n",
    "i=0\n",
    "while i<10:\n",
    "    print(first)\n",
    "    next = first + second\n",
    "    first = second\n",
    "    second = next\n",
    "    i +=1"
   ]
  },
  {
   "cell_type": "markdown",
   "metadata": {
    "id": "qihW2MAxSIsA"
   },
   "source": [
    "### Q7"
   ]
  },
  {
   "cell_type": "code",
   "execution_count": null,
   "metadata": {
    "colab": {
     "base_uri": "https://localhost:8080/"
    },
    "id": "eDh0JueMSKp9",
    "outputId": "fdc6985b-9e60-4736-97fa-d2d91f582cc4"
   },
   "outputs": [
    {
     "name": "stdout",
     "output_type": "stream",
     "text": [
      "['p', 'w', 's', 'k', 'i', 'l', 'l', 's']\n"
     ]
    }
   ],
   "source": [
    "string_1 = 'pwskills'\n",
    "list_compre = [char for char in string_1]\n",
    "print(list_compre)"
   ]
  },
  {
   "cell_type": "markdown",
   "metadata": {
    "id": "z74Hh0eSSgNi"
   },
   "source": [
    "### Q8"
   ]
  },
  {
   "cell_type": "code",
   "execution_count": 1,
   "metadata": {},
   "outputs": [
    {
     "name": "stdout",
     "output_type": "stream",
     "text": [
      "Enter any number:1225\n",
      "Not a palindrome number\n"
     ]
    }
   ],
   "source": [
    "num=int(input(\"Enter any number:\"))\n",
    "temp=num\n",
    "rev=0\n",
    "while(num>0):\n",
    "    dig=num%10\n",
    "    rev=rev*10+dig\n",
    "    num=num//10\n",
    "if(temp==rev):\n",
    "    print(\"Palindrome number\")\n",
    "else:\n",
    "    print(\"Not a palindrome number\")"
   ]
  },
  {
   "cell_type": "markdown",
   "metadata": {},
   "source": [
    "### Q9"
   ]
  },
  {
   "cell_type": "code",
   "execution_count": 4,
   "metadata": {},
   "outputs": [
    {
     "name": "stdout",
     "output_type": "stream",
     "text": [
      "[1, 3, 5, 7, 9, 11, 13, 15, 17, 19, 21, 23, 25, 27, 29, 31, 33, 35, 37, 39, 41, 43, 45, 47, 49, 51, 53, 55, 57, 59, 61, 63, 65, 67, 69, 71, 73, 75, 77, 79, 81, 83, 85, 87, 89, 91, 93, 95, 97, 99]\n"
     ]
    }
   ],
   "source": [
    "numbers = [i for i in range(1, 101)]\n",
    "# print(numbers)\n",
    "odd_numbers = [j for j in numbers if j%2 != 0]\n",
    "print(odd_numbers)"
   ]
  },
  {
   "cell_type": "code",
   "execution_count": null,
   "metadata": {},
   "outputs": [],
   "source": []
  }
 ],
 "metadata": {
  "colab": {
   "provenance": []
  },
  "kernelspec": {
   "display_name": "Python 3 (ipykernel)",
   "language": "python",
   "name": "python3"
  },
  "language_info": {
   "codemirror_mode": {
    "name": "ipython",
    "version": 3
   },
   "file_extension": ".py",
   "mimetype": "text/x-python",
   "name": "python",
   "nbconvert_exporter": "python",
   "pygments_lexer": "ipython3",
   "version": "3.10.9"
  }
 },
 "nbformat": 4,
 "nbformat_minor": 1
}

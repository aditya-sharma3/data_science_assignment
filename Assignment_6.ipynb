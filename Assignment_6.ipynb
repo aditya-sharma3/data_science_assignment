{
 "cells": [
  {
   "cell_type": "markdown",
   "id": "7f525c59",
   "metadata": {},
   "source": [
    "### Q1"
   ]
  },
  {
   "cell_type": "markdown",
   "id": "40eeafdb",
   "metadata": {},
   "source": [
    "Basically Python is an Object riented porgramming language, and everything in python is an object. An ___Object___ is a ___blueprint___ for creating objects. On the other hand ___object___ is the instance of the class."
   ]
  },
  {
   "cell_type": "code",
   "execution_count": 22,
   "id": "7d50f776",
   "metadata": {},
   "outputs": [],
   "source": [
    "# example of class\n",
    "class school:\n",
    "    def __init__(self, name, roll):\n",
    "        self.name = name\n",
    "        self.roll = roll\n",
    "    \n",
    "    def disp(self):\n",
    "        print(self.name)\n",
    "        print(self.roll)"
   ]
  },
  {
   "cell_type": "code",
   "execution_count": 12,
   "id": "7281071f",
   "metadata": {},
   "outputs": [],
   "source": [
    "ats = school('rohit', 34)"
   ]
  },
  {
   "cell_type": "code",
   "execution_count": 13,
   "id": "b9534480",
   "metadata": {},
   "outputs": [
    {
     "name": "stdout",
     "output_type": "stream",
     "text": [
      "rohit\n",
      "34\n"
     ]
    }
   ],
   "source": [
    "ats.disp()"
   ]
  },
  {
   "cell_type": "markdown",
   "id": "a7d5751d",
   "metadata": {},
   "source": [
    "### Q2"
   ]
  },
  {
   "cell_type": "markdown",
   "id": "6c5af0c1",
   "metadata": {},
   "source": [
    "Four pillars of OOP are\n",
    "___1.Encapsulation___\n",
    "___2.Abstraction___\n",
    "___3.Inheritance___\n",
    "___4.Polymorphism___"
   ]
  },
  {
   "cell_type": "markdown",
   "id": "029ee3bf",
   "metadata": {},
   "source": [
    "### Q3"
   ]
  },
  {
   "cell_type": "markdown",
   "id": "5f445ea3",
   "metadata": {},
   "source": [
    "The ***__init__()*** method is like an equivalent to constructor in OOP language and it is called automatically whenever a class is used to create an object."
   ]
  },
  {
   "cell_type": "code",
   "execution_count": 18,
   "id": "a83a452d",
   "metadata": {},
   "outputs": [],
   "source": [
    "# example\n",
    "class Book:\n",
    "    def __init__(self, title, author, price):\n",
    "        self.title = title\n",
    "        self.author = author\n",
    "        self.price = price\n",
    "        "
   ]
  },
  {
   "cell_type": "code",
   "execution_count": 19,
   "id": "6292a5ff",
   "metadata": {},
   "outputs": [],
   "source": [
    "obj = Book('Alchemist', 'Paulo Coelho', 300)"
   ]
  },
  {
   "cell_type": "code",
   "execution_count": 21,
   "id": "074a7d69",
   "metadata": {},
   "outputs": [
    {
     "data": {
      "text/plain": [
       "'Paulo Coelho'"
      ]
     },
     "execution_count": 21,
     "metadata": {},
     "output_type": "execute_result"
    }
   ],
   "source": [
    "obj.author"
   ]
  },
  {
   "cell_type": "markdown",
   "id": "af69d000",
   "metadata": {},
   "source": [
    "### Q4"
   ]
  },
  {
   "cell_type": "markdown",
   "id": "1a644020",
   "metadata": {},
   "source": [
    "___Self___ is not a reserved keyword in python we can use any word instead of it. It is used as a reference to the ___current instance___ of class. And it is used to access variables of the respective class."
   ]
  },
  {
   "cell_type": "markdown",
   "id": "23d6bae5",
   "metadata": {},
   "source": [
    "### Q5"
   ]
  },
  {
   "cell_type": "markdown",
   "id": "5610a124",
   "metadata": {},
   "source": [
    "___Inheritance___ make possible for us to define a class that inherits all the methods and properties of the parent class."
   ]
  },
  {
   "cell_type": "code",
   "execution_count": 30,
   "id": "7c5edfe2",
   "metadata": {},
   "outputs": [],
   "source": [
    "# example of single inheritance\n",
    "# parent class\n",
    "class Person:\n",
    "    def __init__ (self, name, age):\n",
    "        self.name = name\n",
    "        self.age = age\n",
    "    def printvalue(self):\n",
    "        print(self.name, self.age)\n",
    "\n",
    "# child class\n",
    "class school(Person):\n",
    "    def display(self):\n",
    "        print('Name is ', self.name)\n",
    "        print('Age is', self.age)"
   ]
  },
  {
   "cell_type": "code",
   "execution_count": 31,
   "id": "6c48591f",
   "metadata": {},
   "outputs": [],
   "source": [
    "stu1 = school('Amit', 17)"
   ]
  },
  {
   "cell_type": "code",
   "execution_count": 32,
   "id": "02be6440",
   "metadata": {},
   "outputs": [
    {
     "name": "stdout",
     "output_type": "stream",
     "text": [
      "Amit 17\n",
      "Name is  Amit\n",
      "Age is 17\n"
     ]
    }
   ],
   "source": [
    "stu1.printvalue()\n",
    "stu1.display()"
   ]
  },
  {
   "cell_type": "code",
   "execution_count": 45,
   "id": "175cd296",
   "metadata": {},
   "outputs": [],
   "source": [
    "# Multiple Inheritance\n",
    "# Base class 1\n",
    "class test1:\n",
    "    firstname = 'Amit'\n",
    "    def test_fun1(self):\n",
    "        print(self.firstname)\n",
    "\n",
    "# base class 2\n",
    "class test2:\n",
    "    lastname = 'Yadav'\n",
    "    def test_fun2(self):\n",
    "        print(self.lastname)\n",
    "\n",
    "# derived class\n",
    "class test3(test1, test2):\n",
    "    def test_fun3(self):\n",
    "        print(self.firstname, self.lastname)"
   ]
  },
  {
   "cell_type": "code",
   "execution_count": 46,
   "id": "df9222f4",
   "metadata": {},
   "outputs": [],
   "source": [
    "obj2 = test3()"
   ]
  },
  {
   "cell_type": "code",
   "execution_count": 47,
   "id": "23e44c4a",
   "metadata": {},
   "outputs": [
    {
     "name": "stdout",
     "output_type": "stream",
     "text": [
      "Amit Yadav\n"
     ]
    }
   ],
   "source": [
    "obj2.test_fun3()"
   ]
  },
  {
   "cell_type": "code",
   "execution_count": 51,
   "id": "0dcf9bce",
   "metadata": {},
   "outputs": [],
   "source": [
    "# Multilevel Inheritance\n",
    "class test4:\n",
    "    firstname2 = 'Sumit'\n",
    "    def test_fun4(self):\n",
    "        print(self.firstname2)\n",
    "\n",
    "class test5(test4):\n",
    "    middlename = 'Kumar'\n",
    "    def test_fun5(self):\n",
    "        print(self.middlename)\n",
    "\n",
    "class test6(test5):\n",
    "    lastname2 = 'Pandey'\n",
    "    def test_fun6(self):\n",
    "        print(self.firstname2, self.middlename, self.lastname2)\n",
    "        "
   ]
  },
  {
   "cell_type": "code",
   "execution_count": 52,
   "id": "e5daac22",
   "metadata": {},
   "outputs": [],
   "source": [
    "obj3 = test6()"
   ]
  },
  {
   "cell_type": "code",
   "execution_count": 54,
   "id": "d719bac5",
   "metadata": {},
   "outputs": [
    {
     "name": "stdout",
     "output_type": "stream",
     "text": [
      "Sumit Kumar Pandey\n"
     ]
    }
   ],
   "source": [
    "obj3.test_fun6()"
   ]
  },
  {
   "cell_type": "code",
   "execution_count": null,
   "id": "21fe19c2",
   "metadata": {},
   "outputs": [],
   "source": []
  }
 ],
 "metadata": {
  "kernelspec": {
   "display_name": "Python 3 (ipykernel)",
   "language": "python",
   "name": "python3"
  },
  "language_info": {
   "codemirror_mode": {
    "name": "ipython",
    "version": 3
   },
   "file_extension": ".py",
   "mimetype": "text/x-python",
   "name": "python",
   "nbconvert_exporter": "python",
   "pygments_lexer": "ipython3",
   "version": "3.10.9"
  }
 },
 "nbformat": 4,
 "nbformat_minor": 5
}
